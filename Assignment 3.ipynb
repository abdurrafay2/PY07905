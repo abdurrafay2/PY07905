{
 "cells": [
  {
   "cell_type": "code",
   "execution_count": 7,
   "metadata": {},
   "outputs": [
    {
     "name": "stdout",
     "output_type": "stream",
     "text": [
      "Select operation.\n",
      "1.Add\n",
      "2.Subtract\n",
      "3.Multiply\n",
      "4.Divide\n",
      "5.Power\n",
      "Enter choice(1/2/3/4/5): 5\n",
      "Enter first number: 5\n",
      "Enter second number: 2\n",
      "5.0 ** 2.0 = 25.0\n"
     ]
    }
   ],
   "source": [
    "import math\n",
    "def add(x, y):\n",
    "   return x + y\n",
    "def subtract(x, y):\n",
    "   return x - y\n",
    "def multiply(x, y):\n",
    "   return x * y\n",
    "def divide(x, y):\n",
    "   return x / y\n",
    "def power(x,y):\n",
    "   return x ** y\n",
    "print(\"Select operation.\")\n",
    "print(\"1.Add\")\n",
    "print(\"2.Subtract\")\n",
    "print(\"3.Multiply\")\n",
    "print(\"4.Divide\")\n",
    "print(\"5.Power\")\n",
    " \n",
    "choice = input(\"Enter choice(1/2/3/4/5): \")\n",
    "num1 = float(input(\"Enter first number: \"))\n",
    "num2 = float(input(\"Enter second number: \"))\n",
    "if choice == '1':\n",
    "   print(num1,\"+\",num2,\"=\", add(num1,num2))\n",
    "elif choice == '2':\n",
    "   print(num1,\"-\",num2,\"=\", subtract(num1,num2))\n",
    "elif choice == '3':\n",
    "   print(num1,\"*\",num2,\"=\", multiply(num1,num2))\n",
    "elif choice == '4':\n",
    "   print(num1,\"/\",num2,\"=\", divide(num1,num2))\n",
    "elif choice == '5':\n",
    "   print(num1,\"**\",num2,\"=\",power(num1,num2))\n",
    "else:\n",
    "   print(\"Invalid input\")\n",
    "\n",
    "         \n",
    "\n"
   ]
  },
  {
   "cell_type": "code",
   "execution_count": 9,
   "metadata": {},
   "outputs": [
    {
     "name": "stdout",
     "output_type": "stream",
     "text": [
      "enter a number2\n",
      "Number not exsist\n",
      "Number not exsist\n",
      "Number not exsist\n",
      "Number not exsist\n",
      "Number not exsist\n",
      "Number not exsist\n",
      "Number not exsist\n"
     ]
    }
   ],
   "source": [
    "lst = [1,5,6,88,79,6,10]\n",
    "num=int(input(\"enter a number\"))\n",
    "for i in lst: \n",
    "    if(i == num) : \n",
    "        print (\"Element Exists\") \n",
    "    else:\n",
    "        print(\"Number not exsist\")\n",
    "  \n"
   ]
  },
  {
   "cell_type": "code",
   "execution_count": 13,
   "metadata": {},
   "outputs": [
    {
     "name": "stdout",
     "output_type": "stream",
     "text": [
      "1\n",
      "Updated Dict is:  {'a': 1, 'b': 2, 'c': 3, 'd': '4', 'e': '5', 'f': '6', 'g': '7'}\n"
     ]
    }
   ],
   "source": [
    "dict ={'a': 1, 'b': 2, 'c':3}\n",
    "print(dict['a'])\n",
    "dict['d'] = '4'\n",
    "dict['e'] = '5'\n",
    "dict['f'] = '6'\n",
    "dict['g'] = '7'\n",
    "print(\"Updated Dict is: \", dict) \n",
    "\n",
    "\n"
   ]
  },
  {
   "cell_type": "code",
   "execution_count": 17,
   "metadata": {},
   "outputs": [
    {
     "name": "stdout",
     "output_type": "stream",
     "text": [
      "the sum of the dic is 28\n"
     ]
    }
   ],
   "source": [
    "dict={'a': 1, 'b': 2, 'c': 3, 'd': 4, 'e': 5, 'f': 6, 'g': 7}\n",
    "print(\"the sum of the dic is\",sum(dict.values()))"
   ]
  },
  {
   "cell_type": "code",
   "execution_count": 19,
   "metadata": {},
   "outputs": [
    {
     "name": "stdout",
     "output_type": "stream",
     "text": [
      "The original list is : [1, 3, 5, 6, 3, 5, 6, 1]\n",
      "The list after removing duplicates : [1, 3, 5, 6]\n"
     ]
    }
   ],
   "source": [
    "test_list = [1, 3, 5, 6, 3, 5, 6, 1] \n",
    "print (\"The original list is : \" +  str(test_list)) \n",
    "res = [] \n",
    "for i in test_list: \n",
    "    if i not in res: \n",
    "        res.append(i)  \n",
    "print (\"The list after removing duplicates : \" + str(res)) "
   ]
  },
  {
   "cell_type": "code",
   "execution_count": 50,
   "metadata": {},
   "outputs": [
    {
     "name": "stdout",
     "output_type": "stream",
     "text": [
      "Dictionary :  {'a': 'apple', 'b': 'bed', 'c': 'cat', 'm': 'Mango'}\n",
      "Please enter the Key you want to search for: a\n",
      "\n",
      "Key Exists in this Dictionary\n",
      "Key =  a  and Value =  apple\n"
     ]
    }
   ],
   "source": [
    "myDict = {'a': 'apple', 'b': 'bed' , 'c': 'cat', 'm': 'Mango'}\n",
    "print(\"Dictionary : \", myDict)\n",
    "\n",
    "key = input(\"Please enter the Key you want to search for: \")\n",
    "\n",
    "\n",
    "if key in myDict.keys():\n",
    "    print(\"\\nKey Exists in this Dictionary\")\n",
    "    print(\"Key = \", key, \" and Value = \", myDict[key])\n",
    "else:\n",
    "    print(\"\\nKey Does not Exists in this Dictionary\")"
   ]
  },
  {
   "cell_type": "code",
   "execution_count": null,
   "metadata": {},
   "outputs": [],
   "source": []
  },
  {
   "cell_type": "code",
   "execution_count": null,
   "metadata": {},
   "outputs": [],
   "source": []
  },
  {
   "cell_type": "code",
   "execution_count": null,
   "metadata": {},
   "outputs": [],
   "source": []
  }
 ],
 "metadata": {
  "kernelspec": {
   "display_name": "Python 3",
   "language": "python",
   "name": "python3"
  },
  "language_info": {
   "codemirror_mode": {
    "name": "ipython",
    "version": 3
   },
   "file_extension": ".py",
   "mimetype": "text/x-python",
   "name": "python",
   "nbconvert_exporter": "python",
   "pygments_lexer": "ipython3",
   "version": "3.7.4"
  }
 },
 "nbformat": 4,
 "nbformat_minor": 2
}
