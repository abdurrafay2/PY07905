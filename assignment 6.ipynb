{
 "cells": [
  {
   "cell_type": "code",
   "execution_count": null,
   "metadata": {},
   "outputs": [],
   "source": [
    "Object-oriented programming (OOP) refers to a type of computer programming (software design) in which programmers define the data type of a data structure, and also the types of operations (functions) that can be applied to the data structur"
   ]
  },
  {
   "cell_type": "code",
   "execution_count": null,
   "metadata": {},
   "outputs": [],
   "source": [
    "Modularity for easier troubleshooting. Something has gone wrong, and you have no idea where to look. ...\n",
    "Reuse of code through inheritance. \n",
    "Flexibility through polymorphism. \n",
    "Effective problem solving."
   ]
  },
  {
   "cell_type": "code",
   "execution_count": null,
   "metadata": {},
   "outputs": [],
   "source": [
    "A function is a piece of code that is called by name. It can be passed data to operate on (i.e. the parameters) and can optionally return data (the return value). All data that is passed to a function is explicitly passed.\n",
    "\n",
    "A method is a piece of code that is called by a name that is associated with an object. In most respects it is identical to a function except for two key differences:\n",
    "\n",
    "A method is implicitly passed the object on which it was called.\n",
    "A method is able to operate on data that is contained within the class (remembering that an object is an instance of a class - the class is the definition, the object is an instance of that data)."
   ]
  },
  {
   "cell_type": "code",
   "execution_count": null,
   "metadata": {},
   "outputs": [],
   "source": [
    "A class is a code template for creating objects. Objects have member variables and have behaviour associated with them. In python a class is created by the keyword class\n",
    "The object() function returns an empty object. You cannot add new properties or methods to this object. This object is the base for all classes, it holds the built-in properties and methods which are default for all classes.\n",
    "A Python class attribute is an attribute of the class (circular, I know), rather than an attribute of an instance of a class\n"
   ]
  },
  {
   "cell_type": "code",
   "execution_count": null,
   "metadata": {},
   "outputs": [],
   "source": [
    "class Car(object):\n",
    "    # Constructor, takes arguments and constructs the class\n",
    "    def __init__(self, year, make):\n",
    "        self.__year = year    # car's year\n",
    "        self.__make = make    # make of the car\n",
    "        self.__speed = 0      # current speed\n",
    "\n",
    "    def accelerate(self):\n",
    "        \"\"\" Accelerate car. \"\"\"\n",
    "        self.__speed += 5\n",
    "\n",
    "    def brake(self):\n",
    "        \"\"\" Decelerate car. \"\"\"\n",
    "        self.__speed -= 5\n",
    "\n",
    "    def get_speed(self):\n",
    "        \"\"\" Get current speed of car. \"\"\"\n",
    "        return self.__speed\n",
    "\n",
    "\n",
    "def main():\n",
    "    # create a Car object\n",
    "    car = Car(\"1990 Laser\", \"Plymouth\")\n",
    "    # calls the accelerate method\n",
    "    print \"Accelerating . . .\"\n",
    "\n",
    "    for i in xrange(5):\n",
    "        car.accelerate()\n",
    "        print car.get_speed()\n",
    "\n",
    "\n",
    "    # calls the brake method five times.\n",
    "    print \"Decelerating . . .\"\n",
    "\n",
    "    for i in xrange(5):\n",
    "        car.brake()\n",
    "        print car.get_speed()\n",
    "\n",
    "if __name__ == \"__main__\":\n",
    "    main("
   ]
  }
 ],
 "metadata": {
  "kernelspec": {
   "display_name": "Python 3",
   "language": "python",
   "name": "python3"
  },
  "language_info": {
   "codemirror_mode": {
    "name": "ipython",
    "version": 3
   },
   "file_extension": ".py",
   "mimetype": "text/x-python",
   "name": "python",
   "nbconvert_exporter": "python",
   "pygments_lexer": "ipython3",
   "version": "3.7.4"
  }
 },
 "nbformat": 4,
 "nbformat_minor": 2
}
